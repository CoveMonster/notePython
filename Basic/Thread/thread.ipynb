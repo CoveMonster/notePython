{
 "cells": [
  {
   "cell_type": "code",
   "execution_count": 10,
   "metadata": {},
   "outputs": [
    {
     "name": "stdout",
     "output_type": "stream",
     "text": [
      "main\n"
     ]
    }
   ],
   "source": [
    "#操作系统的作用\n",
    "\n",
    "# 1、并发 多个程序同时运行\n",
    "# \n",
    "\n",
    "from multiprocessing import Process\n",
    "\n",
    "def fun():\n",
    "    #for i in range(0,5):\n",
    "        print('thread 0 :',1)\n",
    "\n",
    "def fun_1():\n",
    "    #for i in range(0,5):\n",
    "        print('thread 1 :',1)\n",
    "        \n",
    "if __name__ == '__main__':\n",
    "    p_0 = Process(target = fun)\n",
    "    p_1 = Process(target = fun_1)\n",
    "    p_0.start()\n",
    "    p_1.start()\n",
    "    print('main')"
   ]
  },
  {
   "cell_type": "code",
   "execution_count": null,
   "metadata": {},
   "outputs": [],
   "source": []
  }
 ],
 "metadata": {
  "kernelspec": {
   "display_name": "Python 3",
   "language": "python",
   "name": "python3"
  },
  "language_info": {
   "codemirror_mode": {
    "name": "ipython",
    "version": 3
   },
   "file_extension": ".py",
   "mimetype": "text/x-python",
   "name": "python",
   "nbconvert_exporter": "python",
   "pygments_lexer": "ipython3",
   "version": "3.7.3"
  }
 },
 "nbformat": 4,
 "nbformat_minor": 2
}
